{
  "nbformat": 4,
  "nbformat_minor": 0,
  "metadata": {
    "colab": {
      "provenance": [],
      "authorship_tag": "ABX9TyMcoM5xP1qdDkBCm1fj0mQd"
    },
    "kernelspec": {
      "name": "python3",
      "display_name": "Python 3"
    },
    "language_info": {
      "name": "python"
    }
  },
  "cells": [
    {
      "cell_type": "code",
      "execution_count": null,
      "metadata": {
        "id": "H5fd24lJ6ylM",
        "colab": {
          "base_uri": "https://localhost:8080/"
        },
        "outputId": "78cce8ec-a41c-47af-82c6-298fad671c3f"
      },
      "outputs": [
        {
          "output_type": "stream",
          "name": "stderr",
          "text": [
            "<ipython-input-1-10b72258f2a1>:7: MatplotlibDeprecationWarning: The seaborn styles shipped by Matplotlib are deprecated since 3.6, as they no longer correspond to the styles shipped by seaborn. However, they will remain available as 'seaborn-v0_8-<style>'. Alternatively, directly use the seaborn API instead.\n",
            "  plt.style.use('seaborn-white')\n"
          ]
        }
      ],
      "source": [
        "import numpy as np\n",
        "import seaborn as sns\n",
        "import pandas as pd\n",
        "import math as math\n",
        "from numpy import sqrt, log, exp\n",
        "import matplotlib.pyplot as plt\n",
        "plt.style.use('seaborn-white')\n",
        "%matplotlib inline"
      ]
    },
    {
      "cell_type": "code",
      "source": [
        "# initialize values in units of [ev]\n",
        "A_gsf=(5/2)*(((1.0545e-34)**2)*(math.pi)**2/((9.1093837e-31)*(1e-20))) *(6.242e18)\n",
        "A_esf=2*A_gsf\n",
        "A_gsb=(2/5)*A_gsf\n",
        "A_asb=A_gsf\n",
        "kb= 8.618011058000001e-05 #eV/K\n",
        "print(A_gsf/(kb*.1*10000*10000))"
      ],
      "metadata": {
        "colab": {
          "base_uri": "https://localhost:8080/"
        },
        "id": "ZMctIOvxLrWD",
        "outputId": "c2bfe817-13be-4fc0-b5a1-10b927773768"
      },
      "execution_count": null,
      "outputs": [
        {
          "output_type": "stream",
          "name": "stdout",
          "text": [
            "0.21815272587585324\n"
          ]
        }
      ]
    },
    {
      "cell_type": "code",
      "source": [
        "#using the thermodynamical expression for the internal energy\n",
        "def E(A,L):\n",
        "    E = A/(L*L)\n",
        "    return E\n",
        "def B(k,T):\n",
        "    B=1/(k*T)\n",
        "    return B\n",
        "def Z(A1,A2,Ef,k,T1,T2,L1,L2): #pairs: (L2, T2), (L1,T1), T1=hot temp bath\n",
        "    Z = exp(-B(k,T1)*(E(A1,L1)-E(Ef,L1))) + exp(-B(k,T1)*(E(A2,L1)-E(Ef,L1))) + exp(-B(k,T2)*(E(A2,L2)-E(Ef,L2))) + exp(-B(k,T2)*(E(A1,L2)-E(Ef,L2)))\n",
        "    return Z\n",
        "def U_AB(A1,A2,Ef,k,T1,T2,L1,L2):\n",
        "    U = (exp(-B(k,T1)*(E(A2,L1)-E(Ef,L1))))/(Z(A1,A2,Ef,k,T1,T2,L1,L2)) * (E(A2,L1)-E(Ef,L1)) - (exp(-B(k,T1)*(E(A1,L1)-E(Ef,L1))))/(Z(A1,A2,Ef,k,T1,T2,L1,L2)) * (E(A1,L1)-E(Ef,L1))\n",
        "    return U\n",
        "def U_BC(A1,A2,Ef,k,T1,T2,L1,L2):\n",
        "    U = (exp(-B(k,T1)*(E(A2,L1)-E(Ef,L1))))/(Z(A1,A2,Ef,k,T1,T2,L1,L2)) * (E(A2,L1)-E(Ef,L1)) - (exp(-B(k,T2)*(E(A2,L2)-E(Ef,L2))))/(Z(A1,A2,Ef,k,T1,T2,L1,L2)) * (E(A2,L2)-E(Ef,L2))\n",
        "    return U\n",
        "def U_CD(A1,A2,Ef,k,T1,T2,L1,L2):\n",
        "    U = (exp(-B(k,T2)*(E(A1,L2)-E(Ef,L2))))/(Z(A1,A2,Ef,k,T1,T2,L1,L2)) * (E(A1,L2)-E(Ef,L2)) - (exp(-B(k,T2)*(E(A2,L2)-E(Ef,L2))))/(Z(A1,A2,Ef,k,T1,T2,L1,L2)) * (E(A2,L2)-E(Ef,L2))\n",
        "    return U\n",
        "def U_DA(A1,A2,Ef,k,T1,T2,L1,L2):\n",
        "    U = (exp(-B(k,T1)*(E(A1,L1)-E(Ef,L1))))/(Z(A1,A2,Ef,k,T1,T2,L1,L2)) * (E(A1,L1)-E(Ef,L1)) - (exp(-B(k,T2)*(E(A1,L2)-E(Ef,L2))))/(Z(A1,A2,Ef,k,T1,T2,L1,L2)) * (E(A1,L2)-E(Ef,L2))\n",
        "    return U\n",
        "def S_AB(A1,A2,Ef,k,T1,T2,L1,L2):\n",
        "    S= -T1*k*( (exp(-B(k,T1)*(E(A2,L1)-E(Ef,L1)))/(Z(A1,A2,Ef,k,T1,T2,L1,L2)))*log(exp(-B(k,T1)*(E(A2,L1)-E(Ef,L1)))/(Z(A1,A2,Ef,k,T1,T2,L1,L2))) - ((exp(-B(k,T1)*(E(A1,L1)-E(Ef,L1))))/(Z(A1,A2,Ef,k,T1,T2,L1,L2)))*log((exp(-B(k,T1)*(E(A1,L1)-E(Ef,L1))))/(Z(A1,A2,Ef,k,T1,T2,L1,L2))) )\n",
        "    return S\n",
        "def S_CD(A1,A2,Ef,k,T1,T2,L1,L2):\n",
        "    S= -T2*k*( (exp(-B(k,T2)*(E(A1,L2)-E(Ef,L2)))/(Z(A1,A2,Ef,k,T1,T2,L1,L2)))*log(exp(-B(k,T2)*(E(A1,L2)-E(Ef,L2)))/(Z(A1,A2,Ef,k,T1,T2,L1,L2))) - ((exp(-B(k,T2)*(E(A2,L2)-E(Ef,L2))))/(Z(A1,A2,Ef,k,T1,T2,L1,L2)))*log((exp(-B(k,T2)*(E(A2,L2)-E(Ef,L2))))/(Z(A1,A2,Ef,k,T1,T2,L1,L2))) )\n",
        "    return S\n",
        "def S_A(A1,A2,Ef,k,T1,T2,L1,L2):\n",
        "    S= -T1*k*( ((exp(-B(k,T1)*(E(A1,L1)-E(Ef,L1))))/(Z(A1,A2,Ef,k,T1,T2,L1,L2)))*log((exp(-B(k,T1)*(E(A1,L1)-E(Ef,L1))))/(Z(A1,A2,Ef,k,T1,T2,L1,L2))) )\n",
        "    return S\n",
        "def S_B(A1,A2,Ef,k,T1,T2,L1,L2):\n",
        "    S= -T1*k*( (exp(-B(k,T1)*(E(A2,L1)-E(Ef,L1)))/(Z(A1,A2,Ef,k,T1,T2,L1,L2)))*log(exp(-B(k,T1)*(E(A2,L1)-E(Ef,L1)))/(Z(A1,A2,Ef,k,T1,T2,L1,L2)))  )\n",
        "    return S\n",
        "def S_C(A1,A2,Ef,k,T1,T2,L1,L2):\n",
        "    S= -T2*k*(((exp(-B(k,T2)*(E(A2,L2)-E(Ef,L2))))/(Z(A1,A2,Ef,k,T1,T2,L1,L2)))*log((exp(-B(k,T2)*(E(A2,L2)-E(Ef,L2))))/(Z(A1,A2,Ef,k,T1,T2,L1,L2))) )\n",
        "    return S\n",
        "A_gsf=(5/2)*(((1.0545e-34)**2)*(math.pi)**2/((9.1093837e-31)*(1e-20))) *(6.242e18)\n",
        "A_esf=2*A_gsf\n",
        "A_gsb=(2/5)*A_gsf\n",
        "A_esb=(5/2)*(((1.0545e-34)**2)*(math.pi)**2/((9.1093837e-31)*(1e-20))) *(6.242e18)\n",
        "kb= 8.618011058000001e-05 #eV/K\n",
        "Ef= (6/2)*A_gsf\n",
        "Eb = (0.2)*A_gsf\n",
        "L1=18000\n",
        "L2=22000\n",
        "Th=1.0\n",
        "Tc=0.5\n",
        "x=[]\n",
        "y=[]\n",
        "yb=[]\n",
        "\n",
        "while L1<L2:\n",
        "    L1=L1+10\n",
        "    L=L1-18000\n",
        "    x.append(L)\n",
        "    w1 = -S_AB(A_gsf,A_esf,Ef,kb,Th,Tc,L1,L2)\n",
        "    w2 = -U_BC(A_gsf,A_esf,Ef,kb,Th,Tc,L1,L2)\n",
        "    w3 = -S_CD(A_gsf,A_esf,Ef,kb,Th,Tc,L1,L2)\n",
        "    w4 = - U_DA(A_gsf,A_gsf,Ef,kb,Th,Tc,L1,L2)\n",
        "    eff = -(w2-w4)/(w1)\n",
        "    y.append(eff)\n",
        "    w1b = -S_AB(A_gsb,A_esb,Eb,kb,Th,Tc,L1,L2)\n",
        "    w2b = -U_BC(A_gsb,A_esb,Eb,kb,Th,Tc,L1,L2)\n",
        "    w3b = -S_CD(A_gsb,A_esb,Eb,kb,Th,Tc,L1,L2)\n",
        "    w4b = - U_DA(A_gsb,A_gsb,Eb,kb,Th,Tc,L1,L2)\n",
        "    efb = -(w2b-w4b)/(w1b)\n",
        "    yb.append(efb)\n",
        "\n",
        "\n",
        "plt.figure()\n",
        "plt.plot(x, y,label=\"Fermions\",marker= \".\",linestyle=\"\")\n",
        "plt.plot(x, yb,label=\"Bosons\", marker= \".\",linestyle=\"\")\n",
        "plt.xlabel('Width (Angstroms)')\n",
        "plt.ylabel(\"Efficiency\")\n",
        "plt.legend()\n",
        "plt.title(\"Efficiency for different widths $T_H=1.0$, $T_C=0.5$\")\n",
        "plt.show()\n",
        "print(\"work_fermions= \",-U_BC(A_gsf,A_esf,Ef,kb,Th,Tc,L1,L2)+ U_DA(A_gsf,A_gsf,Ef,kb,Th,Tc,L1,L2))\n",
        "print(\"entropy_fermions= \",S_AB(A_gsf,A_esf,Ef,kb,Th,Tc,L1,L2))\n",
        "print(\"work_bosons= \",-U_BC(A_gsb,A_esb,Ef,kb,Th,Tc,L1,L2)+U_DA(A_gsb,A_esb,Ef,kb,Th,Tc,L1,L2))\n",
        "print(\"entropy_bosons= \",S_AB(A_gsb,A_esb,Ef,kb,Th,Tc,L1,L2))\n",
        "ratio=S_B(A_gsb,A_esb,Eb,kb,Th,Tc,L1,L2)/S_A(A_gsb,A_esb,Eb,kb,Th,Tc,L1,L2)\n",
        "print(\"ratio= \",ratio)"
      ],
      "metadata": {
        "colab": {
          "base_uri": "https://localhost:8080/",
          "height": 555
        },
        "id": "ra5kD6TBKku_",
        "outputId": "592a9fe9-fb3c-480c-b629-bc5d99de3513"
      },
      "execution_count": null,
      "outputs": [
        {
          "output_type": "display_data",
          "data": {
            "text/plain": [
              "<Figure size 640x480 with 1 Axes>"
            ],
            "image/png": "[encoded data removed]"
          },
          "metadata": {}
        },
        {
          "output_type": "stream",
          "name": "stdout",
          "text": [
            "work_fermions=  1.3145734240020568e-09\n",
            "entropy_fermions=  -3.7714058111696244e-08\n",
            "work_bosons=  1.2176018934418426e-09\n",
            "entropy_bosons=  -2.2692357751781853e-08\n",
            "ratio=  0.9992482859974141\n"
          ]
        }
      ]
    },
    {
      "cell_type": "code",
      "source": [
        "print(1.9e-10/4.54e-8)"
      ],
      "metadata": {
        "id": "Z_9TtSZjgmPP",
        "colab": {
          "base_uri": "https://localhost:8080/"
        },
        "outputId": "4b0c371e-348d-4b18-f3b7-1439ba09454a"
      },
      "execution_count": null,
      "outputs": [
        {
          "output_type": "stream",
          "name": "stdout",
          "text": [
            "0.004185022026431718\n"
          ]
        }
      ]
    },
    {
      "cell_type": "code",
      "source": [],
      "metadata": {
        "id": "9I9-7XzwelZ8"
      },
      "execution_count": null,
      "outputs": []
    }
  ]
}